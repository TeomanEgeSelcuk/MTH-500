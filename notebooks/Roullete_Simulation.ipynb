{
 "cells": [
  {
   "cell_type": "markdown",
   "metadata": {},
   "source": [
    "# Dependencies"
   ]
  },
  {
   "cell_type": "code",
   "execution_count": null,
   "metadata": {
    "vscode": {
     "languageId": "plaintext"
    }
   },
   "outputs": [],
   "source": [
    "from itertools import combinations, permutations, combinations_with_replacement, product\n",
    "import itertools\n",
    "import pandas\n",
    "import numpy \n",
    "import plotly.graph_objects as go\n",
    "from plotly.subplots import make_subplots\n",
    "import scipy \n",
    "from fractions import Fraction\n",
    "import matplotlib.pyplot as plt\n",
    "# also uses Cython "
   ]
  },
  {
   "cell_type": "markdown",
   "metadata": {},
   "source": [
    "\n",
    "\n",
    "# Creating the following combinations and permutations:\n",
    "\n",
    "We will be employing permutations and combinations with replacements in our analysis due to the significance of element order and the presence of duplicates. However, it's important to note that for winning sample lengths greater than 3, the conventional permutations and combinations become inapplicable. This is because, for winning sample lengths up to 3, we only deal with unique elements.\n",
    "\n",
    "For permutation with replacement, the formula is $n^r$, where $n$ represents the number of items in the list, and $r$ indicates the number of selections allowed for each item. On the other hand, combination with replacement refers to selecting an item multiple times from an unordered list. The formula for combination with replacement is $\\binom{n + k - 1}{k}$, where $n$ denotes the number of items in the list, and $k$ signifies the permissible number of selections for each item.\n",
    "\n",
    "In the context of **Combinations** and **Permutations** with <span style=\"color:red\">replacement </span> for **Winning Sample Sets (1 to 13)**, we'll explore the following aspects:\n",
    "\n",
    "- Probability Configurations: `{18/38, 18/38, 2/38}`\n",
    "- Color Options: `{red, black, green}`\n",
    "- Reset Scenarios: `{After X Number of Wins, After Y Number of Losses}`\n",
    "    - Adjustments by X% / Y% following the Nth Win/Loss `{Incrementing in 0.5% increments, capped at 100%}`\n",
    "        - Association with Profit Loss Ratios tied to the Nth wager\n"
   ]
  },
  {
   "cell_type": "code",
   "execution_count": null,
   "metadata": {
    "vscode": {
     "languageId": "plaintext"
    }
   },
   "outputs": [],
   "source": [
    "%%time\n",
    "import slot_probabilities\n",
    "\n",
    "# Calculate lengths and elements for the range from 1 to 15 using Cython\n",
    "sample_range, lengths, elements = slot_probabilities.calculat"
   ]
  },
  {
   "cell_type": "code",
   "execution_count": null,
   "metadata": {
    "vscode": {
     "languageId": "plaintext"
    }
   },
   "outputs": [],
   "source": [
    "# Extract data for the first plot (1 to 3)\n",
    "index_1_to_3 = sample_range.index(1)\n",
    "index_1_to_4 = sample_range.index(4)\n",
    "sample_range_1_to_3 = sample_range[index_1_to_3:index_1_to_4]\n",
    "lengths_1_to_3 = lengths[index_1_to_3:index_1_to_4]\n",
    "\n",
    "# Extract data for the second plot (4 to 6)\n",
    "index_4_to_6 = sample_range.index(6) + 1\n",
    "sample_range_4_to_6 = sample_range[index_1_to_4:index_4_to_6]\n",
    "lengths_4_to_6 = lengths[index_1_to_4:index_4_to_6]\n",
    "\n",
    "\n",
    "# Create the subplot layout (2 rows, 1 column)\n",
    "fig, axs = plt.subplots(2, 1, figsize=(10, 12))\n",
    "\n",
    "# First row - range from 1 to 3\n",
    "bottom_offset = [0] * len(sample_range_1_to_3)\n",
    "for i, category in enumerate(['Permutations', 'Combinations', 'Combinations with Replacements', 'Permutations with Replacements']):\n",
    "    axs[0].bar(sample_range_1_to_3, [length[i] for length in lengths_1_to_3], bottom=bottom_offset, label=category, align='center', alpha=0.7)\n",
    "    for j, length in enumerate(lengths_1_to_3):\n",
    "        axs[0].text(sample_range_1_to_3[j], bottom_offset[j] + length[i] / 2, str(length[i]), ha='center', va='center', color='white')\n",
    "        bottom_offset[j] += length[i]\n",
    "\n",
    "axs[0].set_ylabel('Length')\n",
    "axs[0].set_title('Lengths of Permutations, Combinations, Combinations with Replacements, and Permutations with Replacements (1 to 3)')\n",
    "axs[0].legend()\n",
    "axs[0].grid(axis='y')\n",
    "\n",
    "# Hide subticks on the x-axis for the first subplot\n",
    "axs[0].xaxis.set_major_locator(plt.MultipleLocator(1))\n",
    "axs[0].xaxis.set_minor_locator(plt.NullLocator())\n",
    "\n",
    "# Second row - range from 4 to 6\n",
    "bar_width = 0.25\n",
    "bottom_offset = [0] * len(sample_range_4_to_6)\n",
    "for i, category in enumerate(['Permutations', 'Combinations', \n",
    "                              'Combinations with Replacements', 'Permutations with Replacements']):\n",
    "    x_positions = [pos + bar_width * i for pos in range(len(sample_range_4_to_6))]\n",
    "    axs[1].bar(x_positions, [length[i] for length in lengths_4_to_6], label=category, align='center', alpha=0.7, width=bar_width)\n",
    "    for x_pos, length in zip(x_positions, lengths_4_to_6):\n",
    "        axs[1].text(x_pos, length[i], str(length[i]), ha='center', va='bottom', color='black')\n",
    "        bottom_offset = [max(offset, length[i]) for offset in bottom_offset]\n",
    "\n",
    "axs[1].set_xticks(range(len(sample_range_4_to_6)))\n",
    "axs[1].set_xticklabels(sample_range_4_to_6)\n",
    "axs[1].set_xlabel('Sample Size')\n",
    "axs[1].set_ylabel('Length')\n",
    "axs[1].set_title('Lengths of Permutations, Combinations, Combinations with Replacements, and Permutations with Replacements (4 to 6)')\n",
    "axs[1].legend()\n",
    "axs[1].grid(axis='y')\n",
    "\n",
    "plt.tight_layout()\n",
    "plt.show()"
   ]
  }
 ],
 "metadata": {
  "language_info": {
   "name": "python"
  },
  "orig_nbformat": 4
 },
 "nbformat": 4,
 "nbformat_minor": 2
}
